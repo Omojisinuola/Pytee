{
 "cells": [
  {
   "cell_type": "code",
   "execution_count": 2,
   "id": "f357c8bf",
   "metadata": {},
   "outputs": [
    {
     "data": {
      "text/plain": [
       "str"
      ]
     },
     "execution_count": 2,
     "metadata": {},
     "output_type": "execute_result"
    }
   ],
   "source": [
    "x=\"what is your name?\"\n",
    "type(x)\n"
   ]
  },
  {
   "cell_type": "code",
   "execution_count": 3,
   "id": "d5593865",
   "metadata": {},
   "outputs": [
    {
     "data": {
      "text/plain": [
       "int"
      ]
     },
     "execution_count": 3,
     "metadata": {},
     "output_type": "execute_result"
    }
   ],
   "source": [
    "x= 10\n",
    "type(x)"
   ]
  },
  {
   "cell_type": "markdown",
   "id": "29af3ed4",
   "metadata": {},
   "source": [
    "Python's Basic Operations\n"
   ]
  },
  {
   "cell_type": "code",
   "execution_count": 4,
   "id": "c9b26378",
   "metadata": {},
   "outputs": [],
   "source": [
    "x= 2\n",
    "y= 6"
   ]
  },
  {
   "cell_type": "markdown",
   "id": "d8fc10f8",
   "metadata": {},
   "source": [
    "Addition"
   ]
  },
  {
   "cell_type": "code",
   "execution_count": 5,
   "id": "cae523ed",
   "metadata": {},
   "outputs": [
    {
     "name": "stdout",
     "output_type": "stream",
     "text": [
      "the result is 8\n"
     ]
    }
   ],
   "source": [
    "x+y\n",
    "print(\"the result is\", x+y) #the result is 8"
   ]
  },
  {
   "cell_type": "markdown",
   "id": "05c02c44",
   "metadata": {},
   "source": [
    "Subtraction"
   ]
  },
  {
   "cell_type": "code",
   "execution_count": 6,
   "id": "d82947b3",
   "metadata": {},
   "outputs": [
    {
     "name": "stdout",
     "output_type": "stream",
     "text": [
      "the result is -4\n"
     ]
    }
   ],
   "source": [
    "x-y\n",
    "print(\"the result is\", x-y) #the result is 4 "
   ]
  },
  {
   "cell_type": "markdown",
   "id": "480a69e8",
   "metadata": {},
   "source": [
    "Multiplication"
   ]
  },
  {
   "cell_type": "code",
   "execution_count": 7,
   "id": "94955525",
   "metadata": {},
   "outputs": [
    {
     "name": "stdout",
     "output_type": "stream",
     "text": [
      "the result is 12\n"
     ]
    }
   ],
   "source": [
    "x*y\n",
    "print(\"the result is\", x*y) #the result is 12"
   ]
  },
  {
   "cell_type": "markdown",
   "id": "6c26f37b",
   "metadata": {},
   "source": [
    "Division"
   ]
  },
  {
   "cell_type": "code",
   "execution_count": 9,
   "id": "e57c4c1f",
   "metadata": {},
   "outputs": [
    {
     "name": "stdout",
     "output_type": "stream",
     "text": [
      "the result is 3.0\n"
     ]
    }
   ],
   "source": [
    "y/x\n",
    "print(\"the result is\", y/x) #the result is 3.0"
   ]
  },
  {
   "cell_type": "markdown",
   "id": "5cef3642",
   "metadata": {},
   "source": [
    "Power"
   ]
  },
  {
   "cell_type": "code",
   "execution_count": 10,
   "id": "77188ab5",
   "metadata": {},
   "outputs": [
    {
     "name": "stdout",
     "output_type": "stream",
     "text": [
      "the result is 36\n"
     ]
    }
   ],
   "source": [
    "y**x\n",
    "print(\"the result is\", y**x) #the result is 36"
   ]
  },
  {
   "cell_type": "markdown",
   "id": "034b9511",
   "metadata": {},
   "source": [
    "Modulo"
   ]
  },
  {
   "cell_type": "code",
   "execution_count": 11,
   "id": "7c653ef9",
   "metadata": {},
   "outputs": [
    {
     "name": "stdout",
     "output_type": "stream",
     "text": [
      "the result is 0\n"
     ]
    }
   ],
   "source": [
    "y%x\n",
    "print(\"the result is\", y%x) #the result is 0"
   ]
  },
  {
   "cell_type": "code",
   "execution_count": 13,
   "id": "9dd0dad8",
   "metadata": {},
   "outputs": [
    {
     "name": "stdout",
     "output_type": "stream",
     "text": [
      "3.0\n"
     ]
    }
   ],
   "source": [
    "x=19\n",
    "y=10\n",
    "print(x%y*3/(x-y))"
   ]
  },
  {
   "cell_type": "markdown",
   "id": "003495b9",
   "metadata": {},
   "source": [
    "String Operation"
   ]
  },
  {
   "cell_type": "code",
   "execution_count": 14,
   "id": "3ddb3a68",
   "metadata": {},
   "outputs": [],
   "source": [
    "ch=\"Hello\""
   ]
  },
  {
   "cell_type": "code",
   "execution_count": 15,
   "id": "7ce33ed6",
   "metadata": {},
   "outputs": [
    {
     "data": {
      "text/plain": [
       "5"
      ]
     },
     "execution_count": 15,
     "metadata": {},
     "output_type": "execute_result"
    }
   ],
   "source": [
    "len(ch)"
   ]
  },
  {
   "cell_type": "code",
   "execution_count": 34,
   "id": "0515052c",
   "metadata": {},
   "outputs": [],
   "source": [
    "TEE= \"mojisola\""
   ]
  },
  {
   "cell_type": "code",
   "execution_count": 35,
   "id": "f3b1e70d",
   "metadata": {},
   "outputs": [
    {
     "data": {
      "text/plain": [
       "8"
      ]
     },
     "execution_count": 35,
     "metadata": {},
     "output_type": "execute_result"
    }
   ],
   "source": [
    "len(TEE)"
   ]
  },
  {
   "cell_type": "code",
   "execution_count": 36,
   "id": "30ed49d2",
   "metadata": {},
   "outputs": [
    {
     "data": {
      "text/plain": [
       "'l'"
      ]
     },
     "execution_count": 36,
     "metadata": {},
     "output_type": "execute_result"
    }
   ],
   "source": [
    "TEE[6]"
   ]
  },
  {
   "cell_type": "code",
   "execution_count": 37,
   "id": "aa5f158c",
   "metadata": {},
   "outputs": [
    {
     "data": {
      "text/plain": [
       "'a'"
      ]
     },
     "execution_count": 37,
     "metadata": {},
     "output_type": "execute_result"
    }
   ],
   "source": [
    "TEE[-1]"
   ]
  },
  {
   "cell_type": "code",
   "execution_count": 38,
   "id": "7f12c853",
   "metadata": {},
   "outputs": [],
   "source": [
    "TEE= TEE+ \"is a brilliant lady\""
   ]
  },
  {
   "cell_type": "code",
   "execution_count": 39,
   "id": "abf0fae5",
   "metadata": {},
   "outputs": [
    {
     "name": "stdout",
     "output_type": "stream",
     "text": [
      "mojisolais a brilliant lady\n"
     ]
    }
   ],
   "source": [
    "print(TEE)"
   ]
  },
  {
   "cell_type": "code",
   "execution_count": 40,
   "id": "5b09bd7a",
   "metadata": {},
   "outputs": [
    {
     "data": {
      "text/plain": [
       "'MOJISOLAIS A BRILLIANT LADY'"
      ]
     },
     "execution_count": 40,
     "metadata": {},
     "output_type": "execute_result"
    }
   ],
   "source": [
    "TEE.upper()"
   ]
  },
  {
   "cell_type": "code",
   "execution_count": 42,
   "id": "79338107",
   "metadata": {},
   "outputs": [],
   "source": [
    "mystring= \"welcome to coding world\"\n"
   ]
  },
  {
   "cell_type": "code",
   "execution_count": 43,
   "id": "c3372e25",
   "metadata": {},
   "outputs": [
    {
     "name": "stdout",
     "output_type": "stream",
     "text": [
      "i\n"
     ]
    }
   ],
   "source": [
    "print(mystring[len(mystring)-9])"
   ]
  },
  {
   "cell_type": "code",
   "execution_count": 44,
   "id": "3161aaed",
   "metadata": {},
   "outputs": [
    {
     "data": {
      "text/plain": [
       "True"
      ]
     },
     "execution_count": 44,
     "metadata": {},
     "output_type": "execute_result"
    }
   ],
   "source": [
    "(5 != 7) == (2 >1)"
   ]
  },
  {
   "cell_type": "code",
   "execution_count": 45,
   "id": "5afc6f1a",
   "metadata": {},
   "outputs": [
    {
     "data": {
      "text/plain": [
       "True"
      ]
     },
     "execution_count": 45,
     "metadata": {},
     "output_type": "execute_result"
    }
   ],
   "source": [
    "1!= 5 #it returns true"
   ]
  },
  {
   "cell_type": "code",
   "execution_count": 46,
   "id": "50efcdbe",
   "metadata": {},
   "outputs": [
    {
     "data": {
      "text/plain": [
       "False"
      ]
     },
     "execution_count": 46,
     "metadata": {},
     "output_type": "execute_result"
    }
   ],
   "source": [
    "1!= 1 #it returns false"
   ]
  },
  {
   "cell_type": "code",
   "execution_count": 47,
   "id": "165a3d27",
   "metadata": {},
   "outputs": [
    {
     "data": {
      "text/plain": [
       "True"
      ]
     },
     "execution_count": 47,
     "metadata": {},
     "output_type": "execute_result"
    }
   ],
   "source": [
    "(1!=1)==(4>5)"
   ]
  },
  {
   "cell_type": "code",
   "execution_count": 50,
   "id": "f4e6ea0d",
   "metadata": {},
   "outputs": [
    {
     "name": "stdout",
     "output_type": "stream",
     "text": [
      "the passenger has survived Titanic incident\n",
      "33\n"
     ]
    }
   ],
   "source": [
    "age=33\n",
    "age_min= 20\n",
    "if age > age_min :\n",
    "    print(\"the passenger has survived Titanic incident\")\n",
    "print(age)"
   ]
  },
  {
   "cell_type": "code",
   "execution_count": 53,
   "id": "91bf5256",
   "metadata": {},
   "outputs": [
    {
     "name": "stdout",
     "output_type": "stream",
     "text": [
      "we are travelling nextweek to Agbado\n",
      "taiwo\n"
     ]
    }
   ],
   "source": [
    "M= 50\n",
    "M_min= 70\n",
    "name= \"taiwo\"\n",
    "if M < M_min :\n",
    "    print(\"we are travelling nextweek to Agbado\")\n",
    "print(name)"
   ]
  },
  {
   "cell_type": "code",
   "execution_count": 55,
   "id": "b7614d64",
   "metadata": {},
   "outputs": [
    {
     "name": "stdout",
     "output_type": "stream",
     "text": [
      "5\n"
     ]
    }
   ],
   "source": [
    "x=5\n",
    "if x<8:\n",
    "    print(x)"
   ]
  },
  {
   "cell_type": "code",
   "execution_count": 56,
   "id": "57ae4084",
   "metadata": {},
   "outputs": [
    {
     "name": "stdout",
     "output_type": "stream",
     "text": [
      "the passenger has survived\n"
     ]
    }
   ],
   "source": [
    "Age= 40\n",
    "if Age > 20 :\n",
    "    print(\"the passenger has survived\")\n",
    "elif Age == 10 :\n",
    "    print(\"the passenger had equal chances to survive\")\n",
    "else :\n",
    "    print(\"we need more information to make a decision\")"
   ]
  },
  {
   "cell_type": "code",
   "execution_count": 57,
   "id": "976fb530",
   "metadata": {},
   "outputs": [
    {
     "name": "stdout",
     "output_type": "stream",
     "text": [
      "x is higher than 3!\n"
     ]
    }
   ],
   "source": [
    "x = 5\n",
    "if x > 3:\n",
    "   print(\"x is higher than 3!\")\n",
    "else:\n",
    "   print(\"x is lower than 3!\")"
   ]
  },
  {
   "cell_type": "code",
   "execution_count": null,
   "id": "d8a62d82",
   "metadata": {},
   "outputs": [],
   "source": []
  }
 ],
 "metadata": {
  "kernelspec": {
   "display_name": "Python 3",
   "language": "python",
   "name": "python3"
  },
  "language_info": {
   "codemirror_mode": {
    "name": "ipython",
    "version": 3
   },
   "file_extension": ".py",
   "mimetype": "text/x-python",
   "name": "python",
   "nbconvert_exporter": "python",
   "pygments_lexer": "ipython3",
   "version": "3.8.8"
  }
 },
 "nbformat": 4,
 "nbformat_minor": 5
}
