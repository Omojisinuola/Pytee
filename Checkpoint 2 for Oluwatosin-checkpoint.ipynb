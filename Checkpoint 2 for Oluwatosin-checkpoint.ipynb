{
 "cells": [
  {
   "cell_type": "markdown",
   "id": "310662a1",
   "metadata": {},
   "source": [
    "# QUESTION 1"
   ]
  },
  {
   "cell_type": "code",
   "execution_count": 2,
   "id": "b1d9c97b",
   "metadata": {},
   "outputs": [
    {
     "name": "stdout",
     "output_type": "stream",
     "text": [
      "[2002, 2009, 2016, 2023, 2037, 2044, 2051, 2058, 2072, 2079, 2086, 2093, 2107, 2114, 2121, 2128, 2142, 2149, 2156, 2163, 2177, 2184, 2191, 2198, 2212, 2219, 2226, 2233, 2247, 2254, 2261, 2268, 2282, 2289, 2296, 2303, 2317, 2324, 2331, 2338, 2352, 2359, 2366, 2373, 2387, 2394, 2401, 2408, 2422, 2429, 2436, 2443, 2457, 2464, 2471, 2478, 2492, 2499, 2506, 2513, 2527, 2534, 2541, 2548, 2562, 2569, 2576, 2583, 2597, 2604, 2611, 2618, 2632, 2639, 2646, 2653, 2667, 2674, 2681, 2688, 2702, 2709, 2716, 2723, 2737, 2744, 2751, 2758, 2772, 2779, 2786, 2793, 2807, 2814, 2821, 2828, 2842, 2849, 2856, 2863, 2877, 2884, 2891, 2898, 2912, 2919, 2926, 2933, 2947, 2954, 2961, 2968, 2982, 2989, 2996, 3003, 3017, 3024, 3031, 3038, 3052, 3059, 3066, 3073, 3087, 3094, 3101, 3108, 3122, 3129, 3136, 3143, 3157, 3164, 3171, 3178, 3192, 3199]\n"
     ]
    }
   ],
   "source": [
    "rang= range(2000, 3201)\n",
    "lis1= []\n",
    "\n",
    "for num in rang:\n",
    "    if num %7==0 and num % 5 != 0:\n",
    "        lis1.append(num)\n",
    "        \n",
    "print(lis1)"
   ]
  },
  {
   "cell_type": "markdown",
   "id": "8e987474",
   "metadata": {},
   "source": [
    "# QUESTION 2"
   ]
  },
  {
   "cell_type": "code",
   "execution_count": 3,
   "id": "fd30c403",
   "metadata": {},
   "outputs": [],
   "source": [
    "def factorial(tee):\n",
    "    if tee > 1:\n",
    "        return(tee* factorial(tee-1))\n",
    "    elif tee == 1:\n",
    "        return 1\n",
    "    else:\n",
    "        return \"not available\"\n"
   ]
  },
  {
   "cell_type": "code",
   "execution_count": 4,
   "id": "e847d0b0",
   "metadata": {},
   "outputs": [
    {
     "data": {
      "text/plain": [
       "120"
      ]
     },
     "execution_count": 4,
     "metadata": {},
     "output_type": "execute_result"
    }
   ],
   "source": [
    "factorial(5)"
   ]
  },
  {
   "cell_type": "code",
   "execution_count": null,
   "id": "5a019a35",
   "metadata": {},
   "outputs": [],
   "source": []
  },
  {
   "cell_type": "markdown",
   "id": "94c54c19",
   "metadata": {},
   "source": [
    "# QUESTION 3"
   ]
  },
  {
   "cell_type": "markdown",
   "id": "559cc647",
   "metadata": {},
   "source": [
    "# With a given integer number n, write a program to generate a dictionary that contains (i, i*i) such that is an integral number between 1 and n (both included). Then, the program should print the dictionary. Suppose the following input is supplied to the program: 8 Then, the output should be: {1: 1, 2: 4, 3: 9, 4: 16, 5: 25, 6: 36, 7: 49, 8: 64}  "
   ]
  },
  {
   "cell_type": "code",
   "execution_count": 5,
   "id": "59867485",
   "metadata": {},
   "outputs": [],
   "source": [
    "dic= {}\n",
    "def sqr(a,b):\n",
    "    for i in range (a,b):\n",
    "        dic.update({i:i*i})\n",
    "    print(dic)"
   ]
  },
  {
   "cell_type": "code",
   "execution_count": 6,
   "id": "8f08be12",
   "metadata": {},
   "outputs": [
    {
     "name": "stdout",
     "output_type": "stream",
     "text": [
      "{1: 1, 2: 4, 3: 9, 4: 16, 5: 25, 6: 36, 7: 49, 8: 64, 9: 81, 10: 100, 11: 121}\n"
     ]
    }
   ],
   "source": [
    "sqr(1,12)"
   ]
  },
  {
   "cell_type": "markdown",
   "id": "0d36e2bf",
   "metadata": {},
   "source": [
    "# Question 4\n",
    "#given a non empty string and integer n, return a new string where the char at index n has been removed. the value of n will be a valid index of a char in the original string (i.e. n will be in the range 0..len(str)-1 inclusive).\n",
    "missing_char ('kitten', 1)-> 'ktten' for example we remove \"i\" which is located in the index 1\n",
    "missing_char ('kitten', 0)-> 'itten' here we remove \"k\" which is in the index 0\n",
    "missing_char ('kitten', 4)-> 'kittn' here we remove \"e\" which is in the index 4"
   ]
  },
  {
   "cell_type": "code",
   "execution_count": 7,
   "id": "fa27f430",
   "metadata": {},
   "outputs": [],
   "source": [
    "def Tee(str, n):\n",
    "    return str[:n] +str[n+1:]\n",
    "    "
   ]
  },
  {
   "cell_type": "raw",
   "id": "5438f240",
   "metadata": {},
   "source": [
    "return(\"cattle\", 4)"
   ]
  },
  {
   "cell_type": "markdown",
   "id": "76cbdbc9",
   "metadata": {},
   "source": [
    "# ##Question 5 \n",
    "\n",
    "Write a NumPy program to convert a NumPy array into a Python list structure.\n",
    "\n",
    "Expected output: \n",
    "\n",
    "Original array elements: [[0 1] [2 3] [4 5]] \n",
    "\n",
    "Array to list: [[0, 1], [2, 3], [4, 5]] "
   ]
  },
  {
   "cell_type": "code",
   "execution_count": 23,
   "id": "cd87c193",
   "metadata": {},
   "outputs": [],
   "source": [
    "import numpy as np\n",
    "TEE= np.array([[0, 1], [2, 3], [4, 5]])"
   ]
  },
  {
   "cell_type": "code",
   "execution_count": 24,
   "id": "1696bf37",
   "metadata": {},
   "outputs": [
    {
     "name": "stdout",
     "output_type": "stream",
     "text": [
      "[[0 1]\n",
      " [2 3]\n",
      " [4 5]]\n"
     ]
    }
   ],
   "source": [
    "print(TEE)"
   ]
  },
  {
   "cell_type": "code",
   "execution_count": 25,
   "id": "17708349",
   "metadata": {},
   "outputs": [],
   "source": [
    "OMOJI= TEE.tolist()"
   ]
  },
  {
   "cell_type": "code",
   "execution_count": 26,
   "id": "322431bf",
   "metadata": {},
   "outputs": [
    {
     "name": "stdout",
     "output_type": "stream",
     "text": [
      "[[0, 1], [2, 3], [4, 5]]\n"
     ]
    }
   ],
   "source": [
    "print(OMOJI)"
   ]
  },
  {
   "cell_type": "markdown",
   "id": "db736eae",
   "metadata": {},
   "source": [
    "# Question 6"
   ]
  },
  {
   "cell_type": "code",
   "execution_count": 12,
   "id": "2d8d48d9",
   "metadata": {},
   "outputs": [],
   "source": [
    "import numpy as np"
   ]
  },
  {
   "cell_type": "code",
   "execution_count": 17,
   "id": "9088cabe",
   "metadata": {},
   "outputs": [
    {
     "name": "stdout",
     "output_type": "stream",
     "text": [
      "[0 1 2]\n"
     ]
    }
   ],
   "source": [
    "O = np.array([0, 1, 2])\n",
    "T= np.array([2, 1, 0])\n",
    "print(O)"
   ]
  },
  {
   "cell_type": "code",
   "execution_count": 18,
   "id": "bd22f067",
   "metadata": {},
   "outputs": [
    {
     "name": "stdout",
     "output_type": "stream",
     "text": [
      "[2 1 0]\n"
     ]
    }
   ],
   "source": [
    "print(T)"
   ]
  },
  {
   "cell_type": "code",
   "execution_count": 19,
   "id": "f2eb02d8",
   "metadata": {},
   "outputs": [
    {
     "name": "stdout",
     "output_type": "stream",
     "text": [
      "[[ 1. -1.]\n",
      " [-1.  1.]]\n"
     ]
    }
   ],
   "source": [
    "print(np.cov(O, T))#covariance"
   ]
  },
  {
   "cell_type": "markdown",
   "id": "642168b8",
   "metadata": {},
   "source": [
    "# QUESTION 7"
   ]
  },
  {
   "cell_type": "code",
   "execution_count": 21,
   "id": "ba1efe7a",
   "metadata": {},
   "outputs": [],
   "source": [
    "C= 50\n",
    "H= 30\n",
    "d=[]\n",
    "def mango(value):\n",
    "    for d in value:\n",
    "        d.append(int((2*50*35)/30**0.5))\n",
    "        return d\n"
   ]
  },
  {
   "cell_type": "code",
   "execution_count": 23,
   "id": "c39a7090",
   "metadata": {},
   "outputs": [
    {
     "ename": "SyntaxError",
     "evalue": "invalid syntax (<ipython-input-23-57967d2129a5>, line 1)",
     "output_type": "error",
     "traceback": [
      "\u001b[1;36m  File \u001b[1;32m\"<ipython-input-23-57967d2129a5>\"\u001b[1;36m, line \u001b[1;32m1\u001b[0m\n\u001b[1;33m    mango([100 150 180])\u001b[0m\n\u001b[1;37m               ^\u001b[0m\n\u001b[1;31mSyntaxError\u001b[0m\u001b[1;31m:\u001b[0m invalid syntax\n"
     ]
    }
   ],
   "source": []
  },
  {
   "cell_type": "code",
   "execution_count": null,
   "id": "9b25bb33",
   "metadata": {},
   "outputs": [],
   "source": []
  }
 ],
 "metadata": {
  "kernelspec": {
   "display_name": "Python 3",
   "language": "python",
   "name": "python3"
  },
  "language_info": {
   "codemirror_mode": {
    "name": "ipython",
    "version": 3
   },
   "file_extension": ".py",
   "mimetype": "text/x-python",
   "name": "python",
   "nbconvert_exporter": "python",
   "pygments_lexer": "ipython3",
   "version": "3.8.8"
  }
 },
 "nbformat": 4,
 "nbformat_minor": 5
}
